{
 "cells": [
  {
   "cell_type": "markdown",
   "id": "af6c787b",
   "metadata": {},
   "source": [
    "#### Bike Station Information\n",
    "Retrieves static station details from the Capital Bikeshare API and stores them in a MySQL database. The dataset includes station names, unique IDs, geographic coordinates (latitude and longitude), region IDs, and capacity. This information is essential for mapping station locations and analyzing infrastructure distribution."
   ]
  },
  {
   "cell_type": "code",
   "execution_count": 1,
   "id": "067aa0b5",
   "metadata": {},
   "outputs": [
    {
     "name": "stdout",
     "output_type": "stream",
     "text": [
      "Data successfully saved to table 'stations_info_df'.\n"
     ]
    }
   ],
   "source": [
    "import requests\n",
    "import pandas as pd\n",
    "import os\n",
    "from dotenv import load_dotenv\n",
    "from sqlalchemy import create_engine\n",
    "from urllib.parse import quote_plus\n",
    "from typing import Optional\n",
    "\n",
    "def fetch_station_information(url: str) -> Optional[pd.DataFrame]:\n",
    "    \"\"\"\n",
    "    Fetches station information from the API and returns a cleaned Pandas DataFrame.\n",
    "\n",
    "    Args:\n",
    "        url (str): The API endpoint URL.\n",
    "\n",
    "    Returns:\n",
    "        Optional[pd.DataFrame]: A DataFrame with selected station columns or None if an error occurs.\n",
    "    \"\"\"\n",
    "    try:\n",
    "        response = requests.get(url)\n",
    "        response.raise_for_status()  # Raise an error for bad responses (4xx, 5xx)\n",
    "\n",
    "        # Convert response to JSON\n",
    "        data = response.json()\n",
    "\n",
    "        # Extract station information\n",
    "        stations = data['data']['stations']\n",
    "\n",
    "        # Create DataFrame with selected columns\n",
    "        df = pd.DataFrame(stations, columns=['name', 'short_name', 'station_id', \n",
    "                                             'region_id', 'capacity', 'lat', 'lon'])\n",
    "\n",
    "        return df\n",
    "\n",
    "    except requests.exceptions.RequestException as e:\n",
    "        print(f\"Error fetching station information: {e}\")\n",
    "        return None\n",
    "\n",
    "def save_to_database(df: pd.DataFrame, table_name: str) -> None:\n",
    "    \"\"\"\n",
    "    Saves the given DataFrame to a MySQL database.\n",
    "\n",
    "    Args:\n",
    "        df (pd.DataFrame): The DataFrame to save.\n",
    "        table_name (str): The name of the target database table.\n",
    "\n",
    "    Returns:\n",
    "        None\n",
    "    \"\"\"\n",
    "    try:\n",
    "        # Load database credentials from .env file\n",
    "        load_dotenv()\n",
    "        DB_USER = os.getenv(\"DB_USER\")\n",
    "        DB_PASSWORD = os.getenv(\"DB_PASSWORD\")\n",
    "        DB_HOST = os.getenv(\"DB_HOST\")\n",
    "        DB_NAME = os.getenv(\"DB_NAME\")\n",
    "\n",
    "        # Create SQLAlchemy engine\n",
    "        engine = create_engine(f\"mysql+mysqlconnector://{DB_USER}:{quote_plus(DB_PASSWORD)}@{DB_HOST}/{DB_NAME}\")\n",
    "\n",
    "        # Save DataFrame to the database\n",
    "        df.to_sql(table_name, con=engine, if_exists=\"replace\", index=False)\n",
    "        print(f\"Data successfully saved to table '{table_name}'.\")\n",
    "\n",
    "    except Exception as e:\n",
    "        print(f\"Error saving to database: {e}\")\n",
    "\n",
    "if __name__ == \"__main__\":\n",
    "    # Define API URL\n",
    "    API_URL = \"https://gbfs.lyft.com/gbfs/2.3/dca-cabi/en/station_information.json\"\n",
    "\n",
    "    # Fetch and process data\n",
    "    station_data = fetch_station_information(API_URL)\n",
    "\n",
    "    # Save to database if data is available\n",
    "    if station_data is not None:\n",
    "        save_to_database(station_data, \"stations_info_df\")\n"
   ]
  }
 ],
 "metadata": {
  "kernelspec": {
   "display_name": "Python 3 (ipykernel)",
   "language": "python",
   "name": "python3"
  },
  "language_info": {
   "codemirror_mode": {
    "name": "ipython",
    "version": 3
   },
   "file_extension": ".py",
   "mimetype": "text/x-python",
   "name": "python",
   "nbconvert_exporter": "python",
   "pygments_lexer": "ipython3",
   "version": "3.9.12"
  }
 },
 "nbformat": 4,
 "nbformat_minor": 5
}
